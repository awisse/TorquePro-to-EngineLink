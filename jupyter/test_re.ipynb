{
 "cells": [
  {
   "cell_type": "markdown",
   "id": "dce4fd36",
   "metadata": {},
   "source": [
    "# Test regular expressions from the `re` module"
   ]
  },
  {
   "cell_type": "markdown",
   "id": "92db5ae0",
   "metadata": {},
   "source": [
    "## Imports"
   ]
  },
  {
   "cell_type": "code",
   "execution_count": null,
   "id": "e327b3ff",
   "metadata": {},
   "outputs": [],
   "source": [
    "import importlib as imp\n",
    "import re\n",
    "from pathlib import Path"
   ]
  },
  {
   "cell_type": "code",
   "execution_count": null,
   "id": "86f030b5",
   "metadata": {},
   "outputs": [],
   "source": [
    "import tp_to_el as tpel"
   ]
  },
  {
   "cell_type": "markdown",
   "id": "57e17706",
   "metadata": {},
   "source": [
    "## Parameters"
   ]
  },
  {
   "cell_type": "code",
   "execution_count": null,
   "id": "cecc8b49",
   "metadata": {},
   "outputs": [],
   "source": [
    "DATA_PATH = Path.home().joinpath('Documents', 'OBD-PIDs-for-HKMC-EVs', 'Ioniq EV - 28kWh',\n",
    "                                 'extendedpids')"
   ]
  },
  {
   "cell_type": "code",
   "execution_count": null,
   "id": "12e43c6c",
   "metadata": {},
   "outputs": [],
   "source": [
    "FILENAME = 'Hyundai_Ioniq_EV_BMS_data.csv'"
   ]
  },
  {
   "cell_type": "markdown",
   "id": "1223cd86",
   "metadata": {},
   "source": [
    "## Expressions"
   ]
  },
  {
   "cell_type": "markdown",
   "id": "240db5db",
   "metadata": {},
   "source": [
    "## Find and replace"
   ]
  },
  {
   "cell_type": "code",
   "execution_count": null,
   "id": "f0672893",
   "metadata": {},
   "outputs": [],
   "source": [
    "with open(DATA_PATH.joinpath(FILENAME), mode='r') as f:\n",
    "    data = f.read()"
   ]
  },
  {
   "cell_type": "markdown",
   "id": "c7c4466c",
   "metadata": {},
   "source": [
    "### `BIT_RE`"
   ]
  },
  {
   "cell_type": "code",
   "execution_count": null,
   "id": "5c931041",
   "metadata": {},
   "outputs": [],
   "source": [
    "print(tpel.BIT_RE)"
   ]
  },
  {
   "cell_type": "code",
   "execution_count": null,
   "id": "96bda669",
   "metadata": {},
   "outputs": [],
   "source": [
    "print(re.sub(tpel.BIT_RE, '{\\g<bit>}', data))"
   ]
  },
  {
   "cell_type": "markdown",
   "id": "9dbc3d38",
   "metadata": {},
   "source": [
    "### SIGNED_RE"
   ]
  },
  {
   "cell_type": "code",
   "execution_count": null,
   "id": "8b72b5ac",
   "metadata": {},
   "outputs": [],
   "source": [
    "print(tpel.SIGNED_RE)"
   ]
  },
  {
   "cell_type": "code",
   "execution_count": null,
   "id": "d891f65e",
   "metadata": {},
   "outputs": [],
   "source": [
    "print(re.sub(tpel.SIGNED_RE, 'SIGNED\\g<signed>', data))"
   ]
  },
  {
   "cell_type": "markdown",
   "id": "0eaf4210",
   "metadata": {},
   "source": [
    "## `INT16_RE`"
   ]
  },
  {
   "cell_type": "code",
   "execution_count": null,
   "id": "683d505f",
   "metadata": {},
   "outputs": [],
   "source": [
    "print(tpel.INT16_RE)"
   ]
  },
  {
   "cell_type": "code",
   "execution_count": null,
   "id": "e5cfec32",
   "metadata": {},
   "outputs": [],
   "source": [
    "print(re.sub(tpel.INT16_RE, tpel.int16_conv, data, flags=re.IGNORECASE))"
   ]
  },
  {
   "cell_type": "markdown",
   "id": "5a6e1131",
   "metadata": {},
   "source": [
    "## `INT32_RE`"
   ]
  },
  {
   "cell_type": "code",
   "execution_count": null,
   "id": "f5a9b637",
   "metadata": {},
   "outputs": [],
   "source": [
    "print(tpel.INT32_RE)"
   ]
  },
  {
   "cell_type": "code",
   "execution_count": null,
   "id": "25f9b679",
   "metadata": {},
   "outputs": [],
   "source": [
    "print(re.sub(tpel.INT32_RE, tpel.int32_conv, data, flags=re.IGNORECASE))"
   ]
  },
  {
   "cell_type": "markdown",
   "id": "783ed5be",
   "metadata": {},
   "source": [
    "## `SHIFT_RE`"
   ]
  },
  {
   "cell_type": "code",
   "execution_count": null,
   "id": "08a8c638",
   "metadata": {},
   "outputs": [],
   "source": [
    "imp.reload(tpel)"
   ]
  },
  {
   "cell_type": "code",
   "execution_count": null,
   "id": "9d2e09f1",
   "metadata": {},
   "outputs": [],
   "source": [
    "print(tpel.SHIFT_RE)"
   ]
  },
  {
   "cell_type": "code",
   "execution_count": null,
   "id": "3fac51e5",
   "metadata": {},
   "outputs": [],
   "source": [
    "print(re.sub(tpel.SHIFT_RE, tpel.shift_conv, data, flags=re.IGNORECASE))"
   ]
  },
  {
   "cell_type": "code",
   "execution_count": null,
   "id": "8da48309",
   "metadata": {},
   "outputs": [],
   "source": []
  }
 ],
 "metadata": {
  "kernelspec": {
   "display_name": "Python 3.9",
   "language": "python",
   "name": "python3.9"
  },
  "language_info": {
   "codemirror_mode": {
    "name": "ipython",
    "version": 3
   },
   "file_extension": ".py",
   "mimetype": "text/x-python",
   "name": "python",
   "nbconvert_exporter": "python",
   "pygments_lexer": "ipython3",
   "version": "3.9.7"
  }
 },
 "nbformat": 4,
 "nbformat_minor": 5
}
